{
 "cells": [
  {
   "attachments": {},
   "cell_type": "markdown",
   "metadata": {},
   "source": [
    "# GAN\n",
    "## Setup\n",
    "### Imports"
   ]
  },
  {
   "cell_type": "code",
   "execution_count": 7,
   "metadata": {},
   "outputs": [],
   "source": [
    "from keras.callbacks import *\n",
    "import tensorflow as tf\n",
    "import matplotlib.pyplot as plt\n",
    "\n",
    "from settings import *\n",
    "from GANModel import GANModel\n",
    "from SaveImagesCallback import SaveImagesCallback\n",
    "from SaveModelCallback import SaveModelCallback"
   ]
  },
  {
   "attachments": {},
   "cell_type": "markdown",
   "metadata": {},
   "source": [
    "### Check GPU"
   ]
  },
  {
   "cell_type": "code",
   "execution_count": 8,
   "metadata": {},
   "outputs": [
    {
     "name": "stdout",
     "output_type": "stream",
     "text": [
      "Using GPU :)\n"
     ]
    }
   ],
   "source": [
    "gpus = tf.config.experimental.list_physical_devices('GPU')\n",
    "\n",
    "if gpus:\n",
    "\ttry:\n",
    "\t\ttf.config.experimental.set_visible_devices(gpus[0], 'GPU')\n",
    "\t\tprint('Using GPU :)')\n",
    "\texcept RuntimeError as e:\n",
    "\t\tprint(e)\n",
    "else:\n",
    "\tprint('Using CPU :(')"
   ]
  },
  {
   "attachments": {},
   "cell_type": "markdown",
   "metadata": {},
   "source": [
    "## Dataset Initialization"
   ]
  },
  {
   "attachments": {},
   "cell_type": "markdown",
   "metadata": {},
   "source": [
    "### Create dataset from directory"
   ]
  },
  {
   "cell_type": "code",
   "execution_count": 9,
   "metadata": {},
   "outputs": [
    {
     "name": "stdout",
     "output_type": "stream",
     "text": [
      "Found 40603 files belonging to 1 classes.\n"
     ]
    }
   ],
   "source": [
    "dataset = tf.keras.preprocessing.image_dataset_from_directory(\n",
    "\tDATASET_PATH,\n",
    "\timage_size=(IMAGE_SIZE, IMAGE_SIZE),\n",
    "\tbatch_size=None,\n",
    "\tshuffle=True,\n",
    "\tseed=SEED,\n",
    "\tinterpolation='bilinear',\n",
    "\tlabel_mode=None\n",
    ")\n",
    "\n",
    "flipped_dataset = dataset.map(tf.image.flip_left_right, num_parallel_calls=tf.data.experimental.AUTOTUNE)\n",
    "dataset = dataset.concatenate(flipped_dataset)\n",
    "dataset = dataset.map(lambda x: x / 255 * 2 - 1, num_parallel_calls=tf.data.experimental.AUTOTUNE)\n",
    "dataset = dataset.batch(BATCH_SIZE, drop_remainder=True).shuffle(BUFFER_SIZE)"
   ]
  },
  {
   "attachments": {},
   "cell_type": "markdown",
   "metadata": {},
   "source": [
    "### Visualise data"
   ]
  },
  {
   "cell_type": "code",
   "execution_count": 10,
   "metadata": {},
   "outputs": [
    {
     "data": {
      "image/png": "[encoded data removed]",
      "text/plain": [
       "<Figure size 640x480 with 1 Axes>"
      ]
     },
     "metadata": {},
     "output_type": "display_data"
    }
   ],
   "source": [
    "for image in dataset.take(1):\n",
    "\tplt.imshow((image[0] + 1) / 2)"
   ]
  },
  {
   "attachments": {},
   "cell_type": "markdown",
   "metadata": {},
   "source": [
    "## Model Initialization\n",
    "### Load GAN"
   ]
  },
  {
   "cell_type": "code",
   "execution_count": 11,
   "metadata": {},
   "outputs": [],
   "source": [
    "gan = GANModel()\n",
    "gan.compile()"
   ]
  },
  {
   "attachments": {},
   "cell_type": "markdown",
   "metadata": {},
   "source": [
    "### Train the model"
   ]
  },
  {
   "cell_type": "code",
   "execution_count": 12,
   "metadata": {},
   "outputs": [
    {
     "name": "stdout",
     "output_type": "stream",
     "text": [
      "Epoch 1/300\n",
      "   5/2537 [..............................] - ETA: 1:37 - generator_loss: 1.5837 - discriminator_loss: 1.6016 WARNING:tensorflow:Callback method `on_train_batch_end` is slow compared to the batch time (batch time: 0.0094s vs `on_train_batch_end` time: 0.0362s). Check your callbacks.\n",
      "2537/2537 [==============================] - ETA: 0s - generator_loss: 2.1910 - discriminator_loss: 1.2315WARNING:tensorflow:Compiled the loaded model, but the compiled metrics have yet to be built. `model.compile_metrics` will be empty until you train or evaluate the model.\n",
      "WARNING:tensorflow:Compiled the loaded model, but the compiled metrics have yet to be built. `model.compile_metrics` will be empty until you train or evaluate the model.\n",
      "2537/2537 [==============================] - 98s 36ms/step - generator_loss: 2.1921 - discriminator_loss: 1.2320\n",
      "Epoch 2/300\n",
      "2536/2537 [============================>.] - ETA: 0s - generator_loss: 1.8703 - discriminator_loss: 1.0846WARNING:tensorflow:Compiled the loaded model, but the compiled metrics have yet to be built. `model.compile_metrics` will be empty until you train or evaluate the model.\n",
      "WARNING:tensorflow:Compiled the loaded model, but the compiled metrics have yet to be built. `model.compile_metrics` will be empty until you train or evaluate the model.\n",
      "2537/2537 [==============================] - 97s 37ms/step - generator_loss: 1.8704 - discriminator_loss: 1.0848\n",
      "Epoch 3/300\n",
      "2537/2537 [==============================] - ETA: 0s - generator_loss: 1.9291 - discriminator_loss: 1.0440WARNING:tensorflow:Compiled the loaded model, but the compiled metrics have yet to be built. `model.compile_metrics` will be empty until you train or evaluate the model.\n",
      "WARNING:tensorflow:Compiled the loaded model, but the compiled metrics have yet to be built. `model.compile_metrics` will be empty until you train or evaluate the model.\n",
      "2537/2537 [==============================] - 98s 37ms/step - generator_loss: 1.9297 - discriminator_loss: 1.0441\n",
      "Epoch 4/300\n",
      "2536/2537 [============================>.] - ETA: 0s - generator_loss: 1.8973 - discriminator_loss: 1.0456WARNING:tensorflow:Compiled the loaded model, but the compiled metrics have yet to be built. `model.compile_metrics` will be empty until you train or evaluate the model.\n",
      "WARNING:tensorflow:Compiled the loaded model, but the compiled metrics have yet to be built. `model.compile_metrics` will be empty until you train or evaluate the model.\n",
      "2537/2537 [==============================] - 99s 37ms/step - generator_loss: 1.8971 - discriminator_loss: 1.0455\n",
      "Epoch 5/300\n",
      "2537/2537 [==============================] - ETA: 0s - generator_loss: 1.9853 - discriminator_loss: 1.0225WARNING:tensorflow:Compiled the loaded model, but the compiled metrics have yet to be built. `model.compile_metrics` will be empty until you train or evaluate the model.\n",
      "WARNING:tensorflow:Compiled the loaded model, but the compiled metrics have yet to be built. `model.compile_metrics` will be empty until you train or evaluate the model.\n",
      "2537/2537 [==============================] - 95s 36ms/step - generator_loss: 1.9854 - discriminator_loss: 1.0225\n",
      "Epoch 6/300\n",
      "2536/2537 [============================>.] - ETA: 0s - generator_loss: 1.9407 - discriminator_loss: 1.0389WARNING:tensorflow:Compiled the loaded model, but the compiled metrics have yet to be built. `model.compile_metrics` will be empty until you train or evaluate the model.\n",
      "WARNING:tensorflow:Compiled the loaded model, but the compiled metrics have yet to be built. `model.compile_metrics` will be empty until you train or evaluate the model.\n",
      "2537/2537 [==============================] - 93s 35ms/step - generator_loss: 1.9405 - discriminator_loss: 1.0388\n",
      "Epoch 7/300\n",
      "2537/2537 [==============================] - ETA: 0s - generator_loss: 1.9337 - discriminator_loss: 1.0311WARNING:tensorflow:Compiled the loaded model, but the compiled metrics have yet to be built. `model.compile_metrics` will be empty until you train or evaluate the model.\n",
      "WARNING:tensorflow:Compiled the loaded model, but the compiled metrics have yet to be built. `model.compile_metrics` will be empty until you train or evaluate the model.\n",
      "2537/2537 [==============================] - 93s 35ms/step - generator_loss: 1.9336 - discriminator_loss: 1.0311\n",
      "Epoch 8/300\n",
      "2536/2537 [============================>.] - ETA: 0s - generator_loss: 1.9614 - discriminator_loss: 1.0287WARNING:tensorflow:Compiled the loaded model, but the compiled metrics have yet to be built. `model.compile_metrics` will be empty until you train or evaluate the model.\n",
      "WARNING:tensorflow:Compiled the loaded model, but the compiled metrics have yet to be built. `model.compile_metrics` will be empty until you train or evaluate the model.\n",
      "2537/2537 [==============================] - 94s 35ms/step - generator_loss: 1.9615 - discriminator_loss: 1.0286\n",
      "Epoch 9/300\n",
      "2537/2537 [==============================] - ETA: 0s - generator_loss: 1.9810 - discriminator_loss: 1.0334WARNING:tensorflow:Compiled the loaded model, but the compiled metrics have yet to be built. `model.compile_metrics` will be empty until you train or evaluate the model.\n",
      "WARNING:tensorflow:Compiled the loaded model, but the compiled metrics have yet to be built. `model.compile_metrics` will be empty until you train or evaluate the model.\n",
      "2537/2537 [==============================] - 94s 36ms/step - generator_loss: 1.9811 - discriminator_loss: 1.0333\n",
      "Epoch 10/300\n",
      "2536/2537 [============================>.] - ETA: 0s - generator_loss: 1.9938 - discriminator_loss: 1.0200WARNING:tensorflow:Compiled the loaded model, but the compiled metrics have yet to be built. `model.compile_metrics` will be empty until you train or evaluate the model.\n",
      "WARNING:tensorflow:Compiled the loaded model, but the compiled metrics have yet to be built. `model.compile_metrics` will be empty until you train or evaluate the model.\n",
      "2537/2537 [==============================] - 94s 35ms/step - generator_loss: 1.9953 - discriminator_loss: 1.0202\n",
      "Epoch 11/300\n",
      "2537/2537 [==============================] - ETA: 0s - generator_loss: 2.1195 - discriminator_loss: 0.9925WARNING:tensorflow:Compiled the loaded model, but the compiled metrics have yet to be built. `model.compile_metrics` will be empty until you train or evaluate the model.\n",
      "WARNING:tensorflow:Compiled the loaded model, but the compiled metrics have yet to be built. `model.compile_metrics` will be empty until you train or evaluate the model.\n",
      "2537/2537 [==============================] - 95s 36ms/step - generator_loss: 2.1200 - discriminator_loss: 0.9925\n",
      "Epoch 12/300\n",
      "2536/2537 [============================>.] - ETA: 0s - generator_loss: 2.1527 - discriminator_loss: 0.9784WARNING:tensorflow:Compiled the loaded model, but the compiled metrics have yet to be built. `model.compile_metrics` will be empty until you train or evaluate the model.\n",
      "WARNING:tensorflow:Compiled the loaded model, but the compiled metrics have yet to be built. `model.compile_metrics` will be empty until you train or evaluate the model.\n",
      "2537/2537 [==============================] - 94s 35ms/step - generator_loss: 2.1522 - discriminator_loss: 0.9784\n",
      "Epoch 13/300\n",
      "2505/2537 [============================>.] - ETA: 1s - generator_loss: 2.2074 - discriminator_loss: 0.9686"
     ]
    }
   ],
   "source": [
    "save_images_callback = SaveImagesCallback()\n",
    "save_model_callback = SaveModelCallback()\n",
    "gan.fit(dataset, batch_size=BATCH_SIZE, epochs=EPOCHS, shuffle=True, callbacks=[save_images_callback, save_model_callback])"
   ]
  },
  {
   "attachments": {},
   "cell_type": "markdown",
   "metadata": {},
   "source": [
    "### Generate images"
   ]
  },
  {
   "cell_type": "code",
   "execution_count": null,
   "metadata": {},
   "outputs": [],
   "source": [
    "saved_generator = tf.keras.models.load_model(MODEL_OUTPUT_PATH + '/generator.h5')\n",
    "\n",
    "def plot_images(images):\n",
    "\tplt.figure(figsize=(10, 10))\n",
    "\tfor i in range(images.shape[0]):\n",
    "\t\tplt.subplot(5, 5, i + 1)\n",
    "\t\tplt.imshow(images[i, :, :, :])\n",
    "\t\tplt.axis('off')\n",
    "\tplt.show()\n",
    "\n",
    "noise = tf.random.normal((25, 128))\n",
    "images = (saved_generator.predict(noise) + 1) / 2\n",
    "plot_images(images)"
   ]
  }
 ],
 "metadata": {
  "kernelspec": {
   "display_name": "tf",
   "language": "python",
   "name": "python3"
  },
  "language_info": {
   "codemirror_mode": {
    "name": "ipython",
    "version": 3
   },
   "file_extension": ".py",
   "mimetype": "text/x-python",
   "name": "python",
   "nbconvert_exporter": "python",
   "pygments_lexer": "ipython3",
   "version": "3.9.16"
  },
  "orig_nbformat": 4
 },
 "nbformat": 4,
 "nbformat_minor": 2
}
